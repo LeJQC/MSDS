{
 "cells": [
  {
   "cell_type": "markdown",
   "metadata": {
    "id": "view-in-github"
   },
   "source": [
    "<a href=\"https://colab.research.google.com/github/data602sps/assignments/blob/master/05_assignment.ipynb\" target=\"_parent\"><img src=\"https://colab.research.google.com/assets/colab-badge.svg\" alt=\"Open In Colab\"/></a>"
   ]
  },
  {
   "cell_type": "markdown",
   "metadata": {
    "id": "rd2QZetSDszc"
   },
   "source": [
    "# **Assignment 8**\n",
    "\n",
    "# **Weeks 10 & 11 - matplotlib & seaborn**\n",
    "* In this homework assignment, you will explore and analyze a public dataset of your choosing. Since this assignment is “open-ended” in nature, you are free to expand upon the requirements below. However, you must meet the minimum requirments as indicated in each section.\n",
    "\n",
    "\n",
    "* The preferred method for this analysis is in a .ipynb file. Feel free to use whichever platform of your choosing.  \n",
    "\n",
    "\n",
    "### **Some data examples:**\n",
    "•\thttps://www.data.gov/\n",
    "\n",
    "•\thttps://opendata.cityofnewyork.us/\n",
    "\n",
    "•\thttps://datasetsearch.research.google.com/\n",
    "\n",
    "•\thttps://archive.ics.uci.edu/ml/index.php\n",
    "\n",
    "### **Resources:**\n",
    "\n",
    "•\thttps://pandas.pydata.org/pandas-docs/stable/getting_started/10min.html\n",
    "\n",
    "•\thttps://www.oreilly.com/library/view/python-data-science/9781491912126/ch04.html\n",
    "\n",
    "•\thttps://www.data-to-viz.com/\n",
    "\n",
    "\n",
    "\n",
    "### **Headings or comments**\n",
    "**You are required to make use of comments, or headings for each section.  You must explain what your code is doing, and the results of running your code.**  Act as if you were giving this assignment to your manager - you must include clear and descriptive information for each section.\n",
    "\n",
    "### **You may work as a group or indivdually on this assignment.**\n"
   ]
  },
  {
   "cell_type": "markdown",
   "metadata": {
    "id": "uW3w6p8rqgxu"
   },
   "source": [
    "# Introduction\n",
    "\n",
    "In this section, please describe the dataset you are using.  Include a link to the source of this data.  You should also provide some explanation on why you choose this dataset."
   ]
  },
  {
   "cell_type": "markdown",
   "metadata": {
    "id": "L0PnfMOFzOXz"
   },
   "source": [
    "Going into this week's assignment, I wanted to follow up on assignment 7 where I looked at the leading causes of death in the US. In that assignment, heart disease was the leading cause of death from 2007 to 2019. However, I could not find a dataset that had the type of data I wanted to analyze so I ended up using a  dataset from Kaggle (https://www.kaggle.com/datasets/sulianova/cardiovascular-disease-dataset/data). The sources of the data was not listed but I think it is appropriate given the purpose of this assignment. The dataset is titled \"Cardiovascular Disease dataset\".  I decided to choose this dataset as I wanted to explore the common characteristics in people who have heart (cardiovascular) disease. The dataset looks at 12 features and the data was collected during the medical examination.\n",
    "\n"
   ]
  },
  {
   "cell_type": "markdown",
   "metadata": {
    "id": "3bp8cdDxDs2t"
   },
   "source": [
    "______________\n",
    "# Data Exploration\n",
    "Import your dataset into your .ipynb, create dataframes, and explore your data.  \n",
    "\n",
    "Include:\n",
    "\n",
    "* Summary statistics means, medians, quartiles,\n",
    "* Missing value information\n",
    "* Any other relevant information about the dataset.  \n",
    "\n"
   ]
  },
  {
   "cell_type": "code",
   "execution_count": 1,
   "metadata": {
    "executionInfo": {
     "elapsed": 109,
     "status": "ok",
     "timestamp": 1699227304174,
     "user": {
      "displayName": "Jian Quan Chen",
      "userId": "01352352627625084723"
     },
     "user_tz": 300
    },
    "id": "3NUlO_ru1WqR"
   },
   "outputs": [],
   "source": [
    "# importing all the important libraries\n",
    "import pandas as pd\n",
    "import numpy as np\n",
    "from matplotlib import pyplot as plt\n",
    "import seaborn as sns"
   ]
  },
  {
   "cell_type": "code",
   "execution_count": 2,
   "metadata": {
    "executionInfo": {
     "elapsed": 472,
     "status": "ok",
     "timestamp": 1699227304762,
     "user": {
      "displayName": "Jian Quan Chen",
      "userId": "01352352627625084723"
     },
     "user_tz": 300
    },
    "id": "_nqsvyMI9GLV"
   },
   "outputs": [],
   "source": [
    "df = pd.read_csv(\"https://raw.githubusercontent.com/LeJQC/MSDS/main/DATA%20602/Week%2010/cardio_train.csv\", delimiter=\";\")"
   ]
  },
  {
   "cell_type": "code",
   "execution_count": 3,
   "metadata": {
    "colab": {
     "base_uri": "https://localhost:8080/",
     "height": 206
    },
    "executionInfo": {
     "elapsed": 5,
     "status": "ok",
     "timestamp": 1699227304762,
     "user": {
      "displayName": "Jian Quan Chen",
      "userId": "01352352627625084723"
     },
     "user_tz": 300
    },
    "id": "e7OrXZmD9xhs",
    "outputId": "a948f24d-7eb9-4c07-c076-3a0fabbdf8a3"
   },
   "outputs": [
    {
     "data": {
      "text/html": [
       "<div>\n",
       "<style scoped>\n",
       "    .dataframe tbody tr th:only-of-type {\n",
       "        vertical-align: middle;\n",
       "    }\n",
       "\n",
       "    .dataframe tbody tr th {\n",
       "        vertical-align: top;\n",
       "    }\n",
       "\n",
       "    .dataframe thead th {\n",
       "        text-align: right;\n",
       "    }\n",
       "</style>\n",
       "<table border=\"1\" class=\"dataframe\">\n",
       "  <thead>\n",
       "    <tr style=\"text-align: right;\">\n",
       "      <th></th>\n",
       "      <th>id</th>\n",
       "      <th>age</th>\n",
       "      <th>gender</th>\n",
       "      <th>height</th>\n",
       "      <th>weight</th>\n",
       "      <th>ap_hi</th>\n",
       "      <th>ap_lo</th>\n",
       "      <th>cholesterol</th>\n",
       "      <th>gluc</th>\n",
       "      <th>smoke</th>\n",
       "      <th>alco</th>\n",
       "      <th>active</th>\n",
       "      <th>cardio</th>\n",
       "    </tr>\n",
       "  </thead>\n",
       "  <tbody>\n",
       "    <tr>\n",
       "      <th>0</th>\n",
       "      <td>0</td>\n",
       "      <td>18393</td>\n",
       "      <td>2</td>\n",
       "      <td>168</td>\n",
       "      <td>62.0</td>\n",
       "      <td>110</td>\n",
       "      <td>80</td>\n",
       "      <td>1</td>\n",
       "      <td>1</td>\n",
       "      <td>0</td>\n",
       "      <td>0</td>\n",
       "      <td>1</td>\n",
       "      <td>0</td>\n",
       "    </tr>\n",
       "    <tr>\n",
       "      <th>1</th>\n",
       "      <td>1</td>\n",
       "      <td>20228</td>\n",
       "      <td>1</td>\n",
       "      <td>156</td>\n",
       "      <td>85.0</td>\n",
       "      <td>140</td>\n",
       "      <td>90</td>\n",
       "      <td>3</td>\n",
       "      <td>1</td>\n",
       "      <td>0</td>\n",
       "      <td>0</td>\n",
       "      <td>1</td>\n",
       "      <td>1</td>\n",
       "    </tr>\n",
       "    <tr>\n",
       "      <th>2</th>\n",
       "      <td>2</td>\n",
       "      <td>18857</td>\n",
       "      <td>1</td>\n",
       "      <td>165</td>\n",
       "      <td>64.0</td>\n",
       "      <td>130</td>\n",
       "      <td>70</td>\n",
       "      <td>3</td>\n",
       "      <td>1</td>\n",
       "      <td>0</td>\n",
       "      <td>0</td>\n",
       "      <td>0</td>\n",
       "      <td>1</td>\n",
       "    </tr>\n",
       "    <tr>\n",
       "      <th>3</th>\n",
       "      <td>3</td>\n",
       "      <td>17623</td>\n",
       "      <td>2</td>\n",
       "      <td>169</td>\n",
       "      <td>82.0</td>\n",
       "      <td>150</td>\n",
       "      <td>100</td>\n",
       "      <td>1</td>\n",
       "      <td>1</td>\n",
       "      <td>0</td>\n",
       "      <td>0</td>\n",
       "      <td>1</td>\n",
       "      <td>1</td>\n",
       "    </tr>\n",
       "    <tr>\n",
       "      <th>4</th>\n",
       "      <td>4</td>\n",
       "      <td>17474</td>\n",
       "      <td>1</td>\n",
       "      <td>156</td>\n",
       "      <td>56.0</td>\n",
       "      <td>100</td>\n",
       "      <td>60</td>\n",
       "      <td>1</td>\n",
       "      <td>1</td>\n",
       "      <td>0</td>\n",
       "      <td>0</td>\n",
       "      <td>0</td>\n",
       "      <td>0</td>\n",
       "    </tr>\n",
       "  </tbody>\n",
       "</table>\n",
       "</div>"
      ],
      "text/plain": [
       "   id    age  gender  height  weight  ap_hi  ap_lo  cholesterol  gluc  smoke  \\\n",
       "0   0  18393       2     168    62.0    110     80            1     1      0   \n",
       "1   1  20228       1     156    85.0    140     90            3     1      0   \n",
       "2   2  18857       1     165    64.0    130     70            3     1      0   \n",
       "3   3  17623       2     169    82.0    150    100            1     1      0   \n",
       "4   4  17474       1     156    56.0    100     60            1     1      0   \n",
       "\n",
       "   alco  active  cardio  \n",
       "0     0       1       0  \n",
       "1     0       1       1  \n",
       "2     0       0       1  \n",
       "3     0       1       1  \n",
       "4     0       0       0  "
      ]
     },
     "execution_count": 3,
     "metadata": {},
     "output_type": "execute_result"
    }
   ],
   "source": [
    "df.head()"
   ]
  },
  {
   "cell_type": "markdown",
   "metadata": {
    "id": "gUTzp4lkAOc2"
   },
   "source": [
    "From the data description:\n",
    "\n",
    "Features:\n",
    "\n",
    "*   Age | Objective Feature | age | int (days)\n",
    "*   Height | Objective Feature | height | int (cm) |\n",
    "*   Weight | Objective Feature | weight | float (kg) |\n",
    "*   Gender | Objective Feature | gender | categorical code |\n",
    "*   Systolic blood pressure | Examination Feature | ap_hi | int |\n",
    "*   Diastolic blood pressure | Examination Feature | ap_lo | int |\n",
    "*   Cholesterol | Examination Feature | cholesterol | 1: normal, 2: above normal, 3: well above normal |\n",
    "*   Glucose | Examination Feature | gluc | 1: normal, 2: above normal, 3: well above normal |\n",
    "*   Smoking | Subjective Feature | smoke | binary |\n",
    "*   Alcohol intake | Subjective Feature | alco | binary |\n",
    "*   Physical activity | Subjective Feature | active | binary |\n",
    "*   Presence or absence of cardiovascular disease | Target Variable | cardio | binary |"
   ]
  },
  {
   "cell_type": "markdown",
   "metadata": {
    "id": "ddPfnnBV-dhj"
   },
   "source": [
    "Cleaning up the data frame"
   ]
  },
  {
   "cell_type": "code",
   "execution_count": 4,
   "metadata": {
    "executionInfo": {
     "elapsed": 4,
     "status": "ok",
     "timestamp": 1699227304762,
     "user": {
      "displayName": "Jian Quan Chen",
      "userId": "01352352627625084723"
     },
     "user_tz": 300
    },
    "id": "RXCDQuYh-i4A"
   },
   "outputs": [],
   "source": [
    "#df.set_index('id', inplace=True)"
   ]
  },
  {
   "cell_type": "code",
   "execution_count": 5,
   "metadata": {
    "executionInfo": {
     "elapsed": 4,
     "status": "ok",
     "timestamp": 1699227304762,
     "user": {
      "displayName": "Jian Quan Chen",
      "userId": "01352352627625084723"
     },
     "user_tz": 300
    },
    "id": "doJoprCm-nNB"
   },
   "outputs": [],
   "source": [
    "df.rename(columns={\"ap_hi\":\"systolic\", \"ap_lo\":\"diastolic\"}, inplace=True)"
   ]
  },
  {
   "cell_type": "code",
   "execution_count": 6,
   "metadata": {
    "executionInfo": {
     "elapsed": 13,
     "status": "ok",
     "timestamp": 1699227304946,
     "user": {
      "displayName": "Jian Quan Chen",
      "userId": "01352352627625084723"
     },
     "user_tz": 300
    },
    "id": "dQcmDUZ7B0h7"
   },
   "outputs": [],
   "source": [
    "# converting age from days to years\n",
    "df[\"age\"] = (df[\"age\"]/365).round().astype(\"int\")"
   ]
  },
  {
   "cell_type": "code",
   "execution_count": 7,
   "metadata": {
    "colab": {
     "base_uri": "https://localhost:8080/",
     "height": 206
    },
    "executionInfo": {
     "elapsed": 13,
     "status": "ok",
     "timestamp": 1699227304946,
     "user": {
      "displayName": "Jian Quan Chen",
      "userId": "01352352627625084723"
     },
     "user_tz": 300
    },
    "id": "ZODeXrln_VOP",
    "outputId": "57dfd545-0b02-4138-ef81-42a2d400d023"
   },
   "outputs": [
    {
     "data": {
      "text/html": [
       "<div>\n",
       "<style scoped>\n",
       "    .dataframe tbody tr th:only-of-type {\n",
       "        vertical-align: middle;\n",
       "    }\n",
       "\n",
       "    .dataframe tbody tr th {\n",
       "        vertical-align: top;\n",
       "    }\n",
       "\n",
       "    .dataframe thead th {\n",
       "        text-align: right;\n",
       "    }\n",
       "</style>\n",
       "<table border=\"1\" class=\"dataframe\">\n",
       "  <thead>\n",
       "    <tr style=\"text-align: right;\">\n",
       "      <th></th>\n",
       "      <th>id</th>\n",
       "      <th>age</th>\n",
       "      <th>gender</th>\n",
       "      <th>height</th>\n",
       "      <th>weight</th>\n",
       "      <th>systolic</th>\n",
       "      <th>diastolic</th>\n",
       "      <th>cholesterol</th>\n",
       "      <th>gluc</th>\n",
       "      <th>smoke</th>\n",
       "      <th>alco</th>\n",
       "      <th>active</th>\n",
       "      <th>cardio</th>\n",
       "    </tr>\n",
       "  </thead>\n",
       "  <tbody>\n",
       "    <tr>\n",
       "      <th>0</th>\n",
       "      <td>0</td>\n",
       "      <td>50</td>\n",
       "      <td>2</td>\n",
       "      <td>168</td>\n",
       "      <td>62.0</td>\n",
       "      <td>110</td>\n",
       "      <td>80</td>\n",
       "      <td>1</td>\n",
       "      <td>1</td>\n",
       "      <td>0</td>\n",
       "      <td>0</td>\n",
       "      <td>1</td>\n",
       "      <td>0</td>\n",
       "    </tr>\n",
       "    <tr>\n",
       "      <th>1</th>\n",
       "      <td>1</td>\n",
       "      <td>55</td>\n",
       "      <td>1</td>\n",
       "      <td>156</td>\n",
       "      <td>85.0</td>\n",
       "      <td>140</td>\n",
       "      <td>90</td>\n",
       "      <td>3</td>\n",
       "      <td>1</td>\n",
       "      <td>0</td>\n",
       "      <td>0</td>\n",
       "      <td>1</td>\n",
       "      <td>1</td>\n",
       "    </tr>\n",
       "    <tr>\n",
       "      <th>2</th>\n",
       "      <td>2</td>\n",
       "      <td>52</td>\n",
       "      <td>1</td>\n",
       "      <td>165</td>\n",
       "      <td>64.0</td>\n",
       "      <td>130</td>\n",
       "      <td>70</td>\n",
       "      <td>3</td>\n",
       "      <td>1</td>\n",
       "      <td>0</td>\n",
       "      <td>0</td>\n",
       "      <td>0</td>\n",
       "      <td>1</td>\n",
       "    </tr>\n",
       "    <tr>\n",
       "      <th>3</th>\n",
       "      <td>3</td>\n",
       "      <td>48</td>\n",
       "      <td>2</td>\n",
       "      <td>169</td>\n",
       "      <td>82.0</td>\n",
       "      <td>150</td>\n",
       "      <td>100</td>\n",
       "      <td>1</td>\n",
       "      <td>1</td>\n",
       "      <td>0</td>\n",
       "      <td>0</td>\n",
       "      <td>1</td>\n",
       "      <td>1</td>\n",
       "    </tr>\n",
       "    <tr>\n",
       "      <th>4</th>\n",
       "      <td>4</td>\n",
       "      <td>48</td>\n",
       "      <td>1</td>\n",
       "      <td>156</td>\n",
       "      <td>56.0</td>\n",
       "      <td>100</td>\n",
       "      <td>60</td>\n",
       "      <td>1</td>\n",
       "      <td>1</td>\n",
       "      <td>0</td>\n",
       "      <td>0</td>\n",
       "      <td>0</td>\n",
       "      <td>0</td>\n",
       "    </tr>\n",
       "  </tbody>\n",
       "</table>\n",
       "</div>"
      ],
      "text/plain": [
       "   id  age  gender  height  weight  systolic  diastolic  cholesterol  gluc  \\\n",
       "0   0   50       2     168    62.0       110         80            1     1   \n",
       "1   1   55       1     156    85.0       140         90            3     1   \n",
       "2   2   52       1     165    64.0       130         70            3     1   \n",
       "3   3   48       2     169    82.0       150        100            1     1   \n",
       "4   4   48       1     156    56.0       100         60            1     1   \n",
       "\n",
       "   smoke  alco  active  cardio  \n",
       "0      0     0       1       0  \n",
       "1      0     0       1       1  \n",
       "2      0     0       0       1  \n",
       "3      0     0       1       1  \n",
       "4      0     0       0       0  "
      ]
     },
     "execution_count": 7,
     "metadata": {},
     "output_type": "execute_result"
    }
   ],
   "source": [
    "df.head()"
   ]
  },
  {
   "cell_type": "code",
   "execution_count": 8,
   "metadata": {
    "colab": {
     "base_uri": "https://localhost:8080/"
    },
    "executionInfo": {
     "elapsed": 12,
     "status": "ok",
     "timestamp": 1699227304946,
     "user": {
      "displayName": "Jian Quan Chen",
      "userId": "01352352627625084723"
     },
     "user_tz": 300
    },
    "id": "C3oqEqrE_sBF",
    "outputId": "ca792250-074f-43b1-f732-1cf43656cd3c"
   },
   "outputs": [
    {
     "name": "stdout",
     "output_type": "stream",
     "text": [
      "<class 'pandas.core.frame.DataFrame'>\n",
      "RangeIndex: 70000 entries, 0 to 69999\n",
      "Data columns (total 13 columns):\n",
      " #   Column       Non-Null Count  Dtype  \n",
      "---  ------       --------------  -----  \n",
      " 0   id           70000 non-null  int64  \n",
      " 1   age          70000 non-null  int32  \n",
      " 2   gender       70000 non-null  int64  \n",
      " 3   height       70000 non-null  int64  \n",
      " 4   weight       70000 non-null  float64\n",
      " 5   systolic     70000 non-null  int64  \n",
      " 6   diastolic    70000 non-null  int64  \n",
      " 7   cholesterol  70000 non-null  int64  \n",
      " 8   gluc         70000 non-null  int64  \n",
      " 9   smoke        70000 non-null  int64  \n",
      " 10  alco         70000 non-null  int64  \n",
      " 11  active       70000 non-null  int64  \n",
      " 12  cardio       70000 non-null  int64  \n",
      "dtypes: float64(1), int32(1), int64(11)\n",
      "memory usage: 6.7 MB\n"
     ]
    }
   ],
   "source": [
    "df.info()"
   ]
  },
  {
   "cell_type": "code",
   "execution_count": 9,
   "metadata": {
    "colab": {
     "base_uri": "https://localhost:8080/",
     "height": 300
    },
    "executionInfo": {
     "elapsed": 9,
     "status": "ok",
     "timestamp": 1699227304946,
     "user": {
      "displayName": "Jian Quan Chen",
      "userId": "01352352627625084723"
     },
     "user_tz": 300
    },
    "id": "Wj0McMcz_zWA",
    "outputId": "73c9569f-04eb-4bc3-b00d-7549dbc349e8"
   },
   "outputs": [
    {
     "data": {
      "text/html": [
       "<div>\n",
       "<style scoped>\n",
       "    .dataframe tbody tr th:only-of-type {\n",
       "        vertical-align: middle;\n",
       "    }\n",
       "\n",
       "    .dataframe tbody tr th {\n",
       "        vertical-align: top;\n",
       "    }\n",
       "\n",
       "    .dataframe thead th {\n",
       "        text-align: right;\n",
       "    }\n",
       "</style>\n",
       "<table border=\"1\" class=\"dataframe\">\n",
       "  <thead>\n",
       "    <tr style=\"text-align: right;\">\n",
       "      <th></th>\n",
       "      <th>id</th>\n",
       "      <th>age</th>\n",
       "      <th>gender</th>\n",
       "      <th>height</th>\n",
       "      <th>weight</th>\n",
       "      <th>systolic</th>\n",
       "      <th>diastolic</th>\n",
       "      <th>cholesterol</th>\n",
       "      <th>gluc</th>\n",
       "      <th>smoke</th>\n",
       "      <th>alco</th>\n",
       "      <th>active</th>\n",
       "      <th>cardio</th>\n",
       "    </tr>\n",
       "  </thead>\n",
       "  <tbody>\n",
       "    <tr>\n",
       "      <th>count</th>\n",
       "      <td>70000.000000</td>\n",
       "      <td>70000.000000</td>\n",
       "      <td>70000.000000</td>\n",
       "      <td>70000.000000</td>\n",
       "      <td>70000.000000</td>\n",
       "      <td>70000.000000</td>\n",
       "      <td>70000.000000</td>\n",
       "      <td>70000.000000</td>\n",
       "      <td>70000.000000</td>\n",
       "      <td>70000.000000</td>\n",
       "      <td>70000.000000</td>\n",
       "      <td>70000.000000</td>\n",
       "      <td>70000.000000</td>\n",
       "    </tr>\n",
       "    <tr>\n",
       "      <th>mean</th>\n",
       "      <td>49972.419900</td>\n",
       "      <td>53.338686</td>\n",
       "      <td>1.349571</td>\n",
       "      <td>164.359229</td>\n",
       "      <td>74.205690</td>\n",
       "      <td>128.817286</td>\n",
       "      <td>96.630414</td>\n",
       "      <td>1.366871</td>\n",
       "      <td>1.226457</td>\n",
       "      <td>0.088129</td>\n",
       "      <td>0.053771</td>\n",
       "      <td>0.803729</td>\n",
       "      <td>0.499700</td>\n",
       "    </tr>\n",
       "    <tr>\n",
       "      <th>std</th>\n",
       "      <td>28851.302323</td>\n",
       "      <td>6.765294</td>\n",
       "      <td>0.476838</td>\n",
       "      <td>8.210126</td>\n",
       "      <td>14.395757</td>\n",
       "      <td>154.011419</td>\n",
       "      <td>188.472530</td>\n",
       "      <td>0.680250</td>\n",
       "      <td>0.572270</td>\n",
       "      <td>0.283484</td>\n",
       "      <td>0.225568</td>\n",
       "      <td>0.397179</td>\n",
       "      <td>0.500003</td>\n",
       "    </tr>\n",
       "    <tr>\n",
       "      <th>min</th>\n",
       "      <td>0.000000</td>\n",
       "      <td>30.000000</td>\n",
       "      <td>1.000000</td>\n",
       "      <td>55.000000</td>\n",
       "      <td>10.000000</td>\n",
       "      <td>-150.000000</td>\n",
       "      <td>-70.000000</td>\n",
       "      <td>1.000000</td>\n",
       "      <td>1.000000</td>\n",
       "      <td>0.000000</td>\n",
       "      <td>0.000000</td>\n",
       "      <td>0.000000</td>\n",
       "      <td>0.000000</td>\n",
       "    </tr>\n",
       "    <tr>\n",
       "      <th>25%</th>\n",
       "      <td>25006.750000</td>\n",
       "      <td>48.000000</td>\n",
       "      <td>1.000000</td>\n",
       "      <td>159.000000</td>\n",
       "      <td>65.000000</td>\n",
       "      <td>120.000000</td>\n",
       "      <td>80.000000</td>\n",
       "      <td>1.000000</td>\n",
       "      <td>1.000000</td>\n",
       "      <td>0.000000</td>\n",
       "      <td>0.000000</td>\n",
       "      <td>1.000000</td>\n",
       "      <td>0.000000</td>\n",
       "    </tr>\n",
       "    <tr>\n",
       "      <th>50%</th>\n",
       "      <td>50001.500000</td>\n",
       "      <td>54.000000</td>\n",
       "      <td>1.000000</td>\n",
       "      <td>165.000000</td>\n",
       "      <td>72.000000</td>\n",
       "      <td>120.000000</td>\n",
       "      <td>80.000000</td>\n",
       "      <td>1.000000</td>\n",
       "      <td>1.000000</td>\n",
       "      <td>0.000000</td>\n",
       "      <td>0.000000</td>\n",
       "      <td>1.000000</td>\n",
       "      <td>0.000000</td>\n",
       "    </tr>\n",
       "    <tr>\n",
       "      <th>75%</th>\n",
       "      <td>74889.250000</td>\n",
       "      <td>58.000000</td>\n",
       "      <td>2.000000</td>\n",
       "      <td>170.000000</td>\n",
       "      <td>82.000000</td>\n",
       "      <td>140.000000</td>\n",
       "      <td>90.000000</td>\n",
       "      <td>2.000000</td>\n",
       "      <td>1.000000</td>\n",
       "      <td>0.000000</td>\n",
       "      <td>0.000000</td>\n",
       "      <td>1.000000</td>\n",
       "      <td>1.000000</td>\n",
       "    </tr>\n",
       "    <tr>\n",
       "      <th>max</th>\n",
       "      <td>99999.000000</td>\n",
       "      <td>65.000000</td>\n",
       "      <td>2.000000</td>\n",
       "      <td>250.000000</td>\n",
       "      <td>200.000000</td>\n",
       "      <td>16020.000000</td>\n",
       "      <td>11000.000000</td>\n",
       "      <td>3.000000</td>\n",
       "      <td>3.000000</td>\n",
       "      <td>1.000000</td>\n",
       "      <td>1.000000</td>\n",
       "      <td>1.000000</td>\n",
       "      <td>1.000000</td>\n",
       "    </tr>\n",
       "  </tbody>\n",
       "</table>\n",
       "</div>"
      ],
      "text/plain": [
       "                 id           age        gender        height        weight  \\\n",
       "count  70000.000000  70000.000000  70000.000000  70000.000000  70000.000000   \n",
       "mean   49972.419900     53.338686      1.349571    164.359229     74.205690   \n",
       "std    28851.302323      6.765294      0.476838      8.210126     14.395757   \n",
       "min        0.000000     30.000000      1.000000     55.000000     10.000000   \n",
       "25%    25006.750000     48.000000      1.000000    159.000000     65.000000   \n",
       "50%    50001.500000     54.000000      1.000000    165.000000     72.000000   \n",
       "75%    74889.250000     58.000000      2.000000    170.000000     82.000000   \n",
       "max    99999.000000     65.000000      2.000000    250.000000    200.000000   \n",
       "\n",
       "           systolic     diastolic   cholesterol          gluc         smoke  \\\n",
       "count  70000.000000  70000.000000  70000.000000  70000.000000  70000.000000   \n",
       "mean     128.817286     96.630414      1.366871      1.226457      0.088129   \n",
       "std      154.011419    188.472530      0.680250      0.572270      0.283484   \n",
       "min     -150.000000    -70.000000      1.000000      1.000000      0.000000   \n",
       "25%      120.000000     80.000000      1.000000      1.000000      0.000000   \n",
       "50%      120.000000     80.000000      1.000000      1.000000      0.000000   \n",
       "75%      140.000000     90.000000      2.000000      1.000000      0.000000   \n",
       "max    16020.000000  11000.000000      3.000000      3.000000      1.000000   \n",
       "\n",
       "               alco        active        cardio  \n",
       "count  70000.000000  70000.000000  70000.000000  \n",
       "mean       0.053771      0.803729      0.499700  \n",
       "std        0.225568      0.397179      0.500003  \n",
       "min        0.000000      0.000000      0.000000  \n",
       "25%        0.000000      1.000000      0.000000  \n",
       "50%        0.000000      1.000000      0.000000  \n",
       "75%        0.000000      1.000000      1.000000  \n",
       "max        1.000000      1.000000      1.000000  "
      ]
     },
     "execution_count": 9,
     "metadata": {},
     "output_type": "execute_result"
    }
   ],
   "source": [
    "df.describe()"
   ]
  },
  {
   "cell_type": "code",
   "execution_count": 10,
   "metadata": {
    "colab": {
     "base_uri": "https://localhost:8080/"
    },
    "executionInfo": {
     "elapsed": 8,
     "status": "ok",
     "timestamp": 1699227304946,
     "user": {
      "displayName": "Jian Quan Chen",
      "userId": "01352352627625084723"
     },
     "user_tz": 300
    },
    "id": "7unPUhgM_4cl",
    "outputId": "a56487c9-51f9-4133-bb63-7565e7078333"
   },
   "outputs": [
    {
     "data": {
      "text/plain": [
       "id             0\n",
       "age            0\n",
       "gender         0\n",
       "height         0\n",
       "weight         0\n",
       "systolic       0\n",
       "diastolic      0\n",
       "cholesterol    0\n",
       "gluc           0\n",
       "smoke          0\n",
       "alco           0\n",
       "active         0\n",
       "cardio         0\n",
       "dtype: int64"
      ]
     },
     "execution_count": 10,
     "metadata": {},
     "output_type": "execute_result"
    }
   ],
   "source": [
    "df.isna().sum()"
   ]
  },
  {
   "cell_type": "markdown",
   "metadata": {
    "id": "kCSLIafaEGVK"
   },
   "source": [
    "# Data Wrangling\n",
    "\n",
    "Perform data wrangling.  You are free to use your best judgment here.  If you are stuck, look at previous assignment."
   ]
  },
  {
   "cell_type": "markdown",
   "metadata": {
    "id": "-I2h1FuWDHP1"
   },
   "source": [
    "Aside from converting the age column from days to years, I also want to create a new column called BMI (body mass index). This is calculated by taking the individual's weight(kg) and dividing it by their height(m) squared."
   ]
  },
  {
   "cell_type": "code",
   "execution_count": 11,
   "metadata": {
    "executionInfo": {
     "elapsed": 6,
     "status": "ok",
     "timestamp": 1699227305065,
     "user": {
      "displayName": "Jian Quan Chen",
      "userId": "01352352627625084723"
     },
     "user_tz": 300
    },
    "id": "M7Tst9DUQQ_Z"
   },
   "outputs": [],
   "source": [
    "# converting height from cm to m\n",
    "df[\"height\"] = df[\"height\"]/100"
   ]
  },
  {
   "cell_type": "code",
   "execution_count": 12,
   "metadata": {
    "executionInfo": {
     "elapsed": 6,
     "status": "ok",
     "timestamp": 1699227305065,
     "user": {
      "displayName": "Jian Quan Chen",
      "userId": "01352352627625084723"
     },
     "user_tz": 300
    },
    "id": "YvUeMFmEQdYb"
   },
   "outputs": [],
   "source": [
    "df[\"bmi\"] = (df[\"weight\"]/df[\"height\"]**2).round(2)"
   ]
  },
  {
   "cell_type": "code",
   "execution_count": 13,
   "metadata": {
    "colab": {
     "base_uri": "https://localhost:8080/",
     "height": 424
    },
    "executionInfo": {
     "elapsed": 6,
     "status": "ok",
     "timestamp": 1699227305065,
     "user": {
      "displayName": "Jian Quan Chen",
      "userId": "01352352627625084723"
     },
     "user_tz": 300
    },
    "id": "oKBtQ2ShQriJ",
    "outputId": "4d0374fa-ce81-4bc2-f027-fbe1d294e0a3"
   },
   "outputs": [
    {
     "data": {
      "text/html": [
       "<div>\n",
       "<style scoped>\n",
       "    .dataframe tbody tr th:only-of-type {\n",
       "        vertical-align: middle;\n",
       "    }\n",
       "\n",
       "    .dataframe tbody tr th {\n",
       "        vertical-align: top;\n",
       "    }\n",
       "\n",
       "    .dataframe thead th {\n",
       "        text-align: right;\n",
       "    }\n",
       "</style>\n",
       "<table border=\"1\" class=\"dataframe\">\n",
       "  <thead>\n",
       "    <tr style=\"text-align: right;\">\n",
       "      <th></th>\n",
       "      <th>id</th>\n",
       "      <th>age</th>\n",
       "      <th>gender</th>\n",
       "      <th>height</th>\n",
       "      <th>weight</th>\n",
       "      <th>systolic</th>\n",
       "      <th>diastolic</th>\n",
       "      <th>cholesterol</th>\n",
       "      <th>gluc</th>\n",
       "      <th>smoke</th>\n",
       "      <th>alco</th>\n",
       "      <th>active</th>\n",
       "      <th>cardio</th>\n",
       "      <th>bmi</th>\n",
       "    </tr>\n",
       "  </thead>\n",
       "  <tbody>\n",
       "    <tr>\n",
       "      <th>0</th>\n",
       "      <td>0</td>\n",
       "      <td>50</td>\n",
       "      <td>2</td>\n",
       "      <td>1.68</td>\n",
       "      <td>62.0</td>\n",
       "      <td>110</td>\n",
       "      <td>80</td>\n",
       "      <td>1</td>\n",
       "      <td>1</td>\n",
       "      <td>0</td>\n",
       "      <td>0</td>\n",
       "      <td>1</td>\n",
       "      <td>0</td>\n",
       "      <td>21.97</td>\n",
       "    </tr>\n",
       "    <tr>\n",
       "      <th>1</th>\n",
       "      <td>1</td>\n",
       "      <td>55</td>\n",
       "      <td>1</td>\n",
       "      <td>1.56</td>\n",
       "      <td>85.0</td>\n",
       "      <td>140</td>\n",
       "      <td>90</td>\n",
       "      <td>3</td>\n",
       "      <td>1</td>\n",
       "      <td>0</td>\n",
       "      <td>0</td>\n",
       "      <td>1</td>\n",
       "      <td>1</td>\n",
       "      <td>34.93</td>\n",
       "    </tr>\n",
       "    <tr>\n",
       "      <th>2</th>\n",
       "      <td>2</td>\n",
       "      <td>52</td>\n",
       "      <td>1</td>\n",
       "      <td>1.65</td>\n",
       "      <td>64.0</td>\n",
       "      <td>130</td>\n",
       "      <td>70</td>\n",
       "      <td>3</td>\n",
       "      <td>1</td>\n",
       "      <td>0</td>\n",
       "      <td>0</td>\n",
       "      <td>0</td>\n",
       "      <td>1</td>\n",
       "      <td>23.51</td>\n",
       "    </tr>\n",
       "    <tr>\n",
       "      <th>3</th>\n",
       "      <td>3</td>\n",
       "      <td>48</td>\n",
       "      <td>2</td>\n",
       "      <td>1.69</td>\n",
       "      <td>82.0</td>\n",
       "      <td>150</td>\n",
       "      <td>100</td>\n",
       "      <td>1</td>\n",
       "      <td>1</td>\n",
       "      <td>0</td>\n",
       "      <td>0</td>\n",
       "      <td>1</td>\n",
       "      <td>1</td>\n",
       "      <td>28.71</td>\n",
       "    </tr>\n",
       "    <tr>\n",
       "      <th>4</th>\n",
       "      <td>4</td>\n",
       "      <td>48</td>\n",
       "      <td>1</td>\n",
       "      <td>1.56</td>\n",
       "      <td>56.0</td>\n",
       "      <td>100</td>\n",
       "      <td>60</td>\n",
       "      <td>1</td>\n",
       "      <td>1</td>\n",
       "      <td>0</td>\n",
       "      <td>0</td>\n",
       "      <td>0</td>\n",
       "      <td>0</td>\n",
       "      <td>23.01</td>\n",
       "    </tr>\n",
       "  </tbody>\n",
       "</table>\n",
       "</div>"
      ],
      "text/plain": [
       "   id  age  gender  height  weight  systolic  diastolic  cholesterol  gluc  \\\n",
       "0   0   50       2    1.68    62.0       110         80            1     1   \n",
       "1   1   55       1    1.56    85.0       140         90            3     1   \n",
       "2   2   52       1    1.65    64.0       130         70            3     1   \n",
       "3   3   48       2    1.69    82.0       150        100            1     1   \n",
       "4   4   48       1    1.56    56.0       100         60            1     1   \n",
       "\n",
       "   smoke  alco  active  cardio    bmi  \n",
       "0      0     0       1       0  21.97  \n",
       "1      0     0       1       1  34.93  \n",
       "2      0     0       0       1  23.51  \n",
       "3      0     0       1       1  28.71  \n",
       "4      0     0       0       0  23.01  "
      ]
     },
     "execution_count": 13,
     "metadata": {},
     "output_type": "execute_result"
    }
   ],
   "source": [
    "df.head()"
   ]
  },
  {
   "cell_type": "markdown",
   "metadata": {
    "id": "E1oyizxrI4IM"
   },
   "source": [
    "For this analysis, I just want to look at the people who have cardiovascular disease"
   ]
  },
  {
   "cell_type": "code",
   "execution_count": 14,
   "metadata": {
    "executionInfo": {
     "elapsed": 5,
     "status": "ok",
     "timestamp": 1699227305065,
     "user": {
      "displayName": "Jian Quan Chen",
      "userId": "01352352627625084723"
     },
     "user_tz": 300
    },
    "id": "Wt7f6D0SI3A9"
   },
   "outputs": [],
   "source": [
    "df_filtered = df[df[\"cardio\"] == 1]"
   ]
  },
  {
   "cell_type": "code",
   "execution_count": 15,
   "metadata": {
    "colab": {
     "base_uri": "https://localhost:8080/",
     "height": 206
    },
    "executionInfo": {
     "elapsed": 141,
     "status": "ok",
     "timestamp": 1699227305202,
     "user": {
      "displayName": "Jian Quan Chen",
      "userId": "01352352627625084723"
     },
     "user_tz": 300
    },
    "id": "eR-BpoQEEM9b",
    "outputId": "fd04a15a-b1f2-4fcb-ff24-0d4b230579d9"
   },
   "outputs": [
    {
     "data": {
      "text/html": [
       "<div>\n",
       "<style scoped>\n",
       "    .dataframe tbody tr th:only-of-type {\n",
       "        vertical-align: middle;\n",
       "    }\n",
       "\n",
       "    .dataframe tbody tr th {\n",
       "        vertical-align: top;\n",
       "    }\n",
       "\n",
       "    .dataframe thead th {\n",
       "        text-align: right;\n",
       "    }\n",
       "</style>\n",
       "<table border=\"1\" class=\"dataframe\">\n",
       "  <thead>\n",
       "    <tr style=\"text-align: right;\">\n",
       "      <th></th>\n",
       "      <th>id</th>\n",
       "      <th>age</th>\n",
       "      <th>gender</th>\n",
       "      <th>height</th>\n",
       "      <th>weight</th>\n",
       "      <th>systolic</th>\n",
       "      <th>diastolic</th>\n",
       "      <th>cholesterol</th>\n",
       "      <th>gluc</th>\n",
       "      <th>smoke</th>\n",
       "      <th>alco</th>\n",
       "      <th>active</th>\n",
       "      <th>cardio</th>\n",
       "      <th>bmi</th>\n",
       "    </tr>\n",
       "  </thead>\n",
       "  <tbody>\n",
       "    <tr>\n",
       "      <th>1</th>\n",
       "      <td>1</td>\n",
       "      <td>55</td>\n",
       "      <td>1</td>\n",
       "      <td>1.56</td>\n",
       "      <td>85.0</td>\n",
       "      <td>140</td>\n",
       "      <td>90</td>\n",
       "      <td>3</td>\n",
       "      <td>1</td>\n",
       "      <td>0</td>\n",
       "      <td>0</td>\n",
       "      <td>1</td>\n",
       "      <td>1</td>\n",
       "      <td>34.93</td>\n",
       "    </tr>\n",
       "    <tr>\n",
       "      <th>2</th>\n",
       "      <td>2</td>\n",
       "      <td>52</td>\n",
       "      <td>1</td>\n",
       "      <td>1.65</td>\n",
       "      <td>64.0</td>\n",
       "      <td>130</td>\n",
       "      <td>70</td>\n",
       "      <td>3</td>\n",
       "      <td>1</td>\n",
       "      <td>0</td>\n",
       "      <td>0</td>\n",
       "      <td>0</td>\n",
       "      <td>1</td>\n",
       "      <td>23.51</td>\n",
       "    </tr>\n",
       "    <tr>\n",
       "      <th>3</th>\n",
       "      <td>3</td>\n",
       "      <td>48</td>\n",
       "      <td>2</td>\n",
       "      <td>1.69</td>\n",
       "      <td>82.0</td>\n",
       "      <td>150</td>\n",
       "      <td>100</td>\n",
       "      <td>1</td>\n",
       "      <td>1</td>\n",
       "      <td>0</td>\n",
       "      <td>0</td>\n",
       "      <td>1</td>\n",
       "      <td>1</td>\n",
       "      <td>28.71</td>\n",
       "    </tr>\n",
       "    <tr>\n",
       "      <th>7</th>\n",
       "      <td>12</td>\n",
       "      <td>62</td>\n",
       "      <td>2</td>\n",
       "      <td>1.78</td>\n",
       "      <td>95.0</td>\n",
       "      <td>130</td>\n",
       "      <td>90</td>\n",
       "      <td>3</td>\n",
       "      <td>3</td>\n",
       "      <td>0</td>\n",
       "      <td>0</td>\n",
       "      <td>1</td>\n",
       "      <td>1</td>\n",
       "      <td>29.98</td>\n",
       "    </tr>\n",
       "    <tr>\n",
       "      <th>15</th>\n",
       "      <td>24</td>\n",
       "      <td>46</td>\n",
       "      <td>2</td>\n",
       "      <td>1.72</td>\n",
       "      <td>112.0</td>\n",
       "      <td>120</td>\n",
       "      <td>80</td>\n",
       "      <td>1</td>\n",
       "      <td>1</td>\n",
       "      <td>0</td>\n",
       "      <td>0</td>\n",
       "      <td>0</td>\n",
       "      <td>1</td>\n",
       "      <td>37.86</td>\n",
       "    </tr>\n",
       "  </tbody>\n",
       "</table>\n",
       "</div>"
      ],
      "text/plain": [
       "    id  age  gender  height  weight  systolic  diastolic  cholesterol  gluc  \\\n",
       "1    1   55       1    1.56    85.0       140         90            3     1   \n",
       "2    2   52       1    1.65    64.0       130         70            3     1   \n",
       "3    3   48       2    1.69    82.0       150        100            1     1   \n",
       "7   12   62       2    1.78    95.0       130         90            3     3   \n",
       "15  24   46       2    1.72   112.0       120         80            1     1   \n",
       "\n",
       "    smoke  alco  active  cardio    bmi  \n",
       "1       0     0       1       1  34.93  \n",
       "2       0     0       0       1  23.51  \n",
       "3       0     0       1       1  28.71  \n",
       "7       0     0       1       1  29.98  \n",
       "15      0     0       0       1  37.86  "
      ]
     },
     "execution_count": 15,
     "metadata": {},
     "output_type": "execute_result"
    }
   ],
   "source": [
    "df_filtered.head()"
   ]
  },
  {
   "cell_type": "code",
   "execution_count": 16,
   "metadata": {
    "colab": {
     "base_uri": "https://localhost:8080/",
     "height": 300
    },
    "executionInfo": {
     "elapsed": 7,
     "status": "ok",
     "timestamp": 1699227305202,
     "user": {
      "displayName": "Jian Quan Chen",
      "userId": "01352352627625084723"
     },
     "user_tz": 300
    },
    "id": "BQVO5gvDSPmE",
    "outputId": "4470a871-de54-457e-ff2c-60ac3efb187f"
   },
   "outputs": [
    {
     "data": {
      "text/html": [
       "<div>\n",
       "<style scoped>\n",
       "    .dataframe tbody tr th:only-of-type {\n",
       "        vertical-align: middle;\n",
       "    }\n",
       "\n",
       "    .dataframe tbody tr th {\n",
       "        vertical-align: top;\n",
       "    }\n",
       "\n",
       "    .dataframe thead th {\n",
       "        text-align: right;\n",
       "    }\n",
       "</style>\n",
       "<table border=\"1\" class=\"dataframe\">\n",
       "  <thead>\n",
       "    <tr style=\"text-align: right;\">\n",
       "      <th></th>\n",
       "      <th>id</th>\n",
       "      <th>age</th>\n",
       "      <th>gender</th>\n",
       "      <th>height</th>\n",
       "      <th>weight</th>\n",
       "      <th>systolic</th>\n",
       "      <th>diastolic</th>\n",
       "      <th>cholesterol</th>\n",
       "      <th>gluc</th>\n",
       "      <th>smoke</th>\n",
       "      <th>alco</th>\n",
       "      <th>active</th>\n",
       "      <th>cardio</th>\n",
       "      <th>bmi</th>\n",
       "    </tr>\n",
       "  </thead>\n",
       "  <tbody>\n",
       "    <tr>\n",
       "      <th>count</th>\n",
       "      <td>70000.000000</td>\n",
       "      <td>70000.000000</td>\n",
       "      <td>70000.000000</td>\n",
       "      <td>70000.000000</td>\n",
       "      <td>70000.000000</td>\n",
       "      <td>70000.000000</td>\n",
       "      <td>70000.000000</td>\n",
       "      <td>70000.000000</td>\n",
       "      <td>70000.000000</td>\n",
       "      <td>70000.000000</td>\n",
       "      <td>70000.000000</td>\n",
       "      <td>70000.000000</td>\n",
       "      <td>70000.000000</td>\n",
       "      <td>70000.000000</td>\n",
       "    </tr>\n",
       "    <tr>\n",
       "      <th>mean</th>\n",
       "      <td>49972.419900</td>\n",
       "      <td>53.338686</td>\n",
       "      <td>1.349571</td>\n",
       "      <td>1.643592</td>\n",
       "      <td>74.205690</td>\n",
       "      <td>128.817286</td>\n",
       "      <td>96.630414</td>\n",
       "      <td>1.366871</td>\n",
       "      <td>1.226457</td>\n",
       "      <td>0.088129</td>\n",
       "      <td>0.053771</td>\n",
       "      <td>0.803729</td>\n",
       "      <td>0.499700</td>\n",
       "      <td>27.556545</td>\n",
       "    </tr>\n",
       "    <tr>\n",
       "      <th>std</th>\n",
       "      <td>28851.302323</td>\n",
       "      <td>6.765294</td>\n",
       "      <td>0.476838</td>\n",
       "      <td>0.082101</td>\n",
       "      <td>14.395757</td>\n",
       "      <td>154.011419</td>\n",
       "      <td>188.472530</td>\n",
       "      <td>0.680250</td>\n",
       "      <td>0.572270</td>\n",
       "      <td>0.283484</td>\n",
       "      <td>0.225568</td>\n",
       "      <td>0.397179</td>\n",
       "      <td>0.500003</td>\n",
       "      <td>6.091405</td>\n",
       "    </tr>\n",
       "    <tr>\n",
       "      <th>min</th>\n",
       "      <td>0.000000</td>\n",
       "      <td>30.000000</td>\n",
       "      <td>1.000000</td>\n",
       "      <td>0.550000</td>\n",
       "      <td>10.000000</td>\n",
       "      <td>-150.000000</td>\n",
       "      <td>-70.000000</td>\n",
       "      <td>1.000000</td>\n",
       "      <td>1.000000</td>\n",
       "      <td>0.000000</td>\n",
       "      <td>0.000000</td>\n",
       "      <td>0.000000</td>\n",
       "      <td>0.000000</td>\n",
       "      <td>3.470000</td>\n",
       "    </tr>\n",
       "    <tr>\n",
       "      <th>25%</th>\n",
       "      <td>25006.750000</td>\n",
       "      <td>48.000000</td>\n",
       "      <td>1.000000</td>\n",
       "      <td>1.590000</td>\n",
       "      <td>65.000000</td>\n",
       "      <td>120.000000</td>\n",
       "      <td>80.000000</td>\n",
       "      <td>1.000000</td>\n",
       "      <td>1.000000</td>\n",
       "      <td>0.000000</td>\n",
       "      <td>0.000000</td>\n",
       "      <td>1.000000</td>\n",
       "      <td>0.000000</td>\n",
       "      <td>23.880000</td>\n",
       "    </tr>\n",
       "    <tr>\n",
       "      <th>50%</th>\n",
       "      <td>50001.500000</td>\n",
       "      <td>54.000000</td>\n",
       "      <td>1.000000</td>\n",
       "      <td>1.650000</td>\n",
       "      <td>72.000000</td>\n",
       "      <td>120.000000</td>\n",
       "      <td>80.000000</td>\n",
       "      <td>1.000000</td>\n",
       "      <td>1.000000</td>\n",
       "      <td>0.000000</td>\n",
       "      <td>0.000000</td>\n",
       "      <td>1.000000</td>\n",
       "      <td>0.000000</td>\n",
       "      <td>26.375000</td>\n",
       "    </tr>\n",
       "    <tr>\n",
       "      <th>75%</th>\n",
       "      <td>74889.250000</td>\n",
       "      <td>58.000000</td>\n",
       "      <td>2.000000</td>\n",
       "      <td>1.700000</td>\n",
       "      <td>82.000000</td>\n",
       "      <td>140.000000</td>\n",
       "      <td>90.000000</td>\n",
       "      <td>2.000000</td>\n",
       "      <td>1.000000</td>\n",
       "      <td>0.000000</td>\n",
       "      <td>0.000000</td>\n",
       "      <td>1.000000</td>\n",
       "      <td>1.000000</td>\n",
       "      <td>30.220000</td>\n",
       "    </tr>\n",
       "    <tr>\n",
       "      <th>max</th>\n",
       "      <td>99999.000000</td>\n",
       "      <td>65.000000</td>\n",
       "      <td>2.000000</td>\n",
       "      <td>2.500000</td>\n",
       "      <td>200.000000</td>\n",
       "      <td>16020.000000</td>\n",
       "      <td>11000.000000</td>\n",
       "      <td>3.000000</td>\n",
       "      <td>3.000000</td>\n",
       "      <td>1.000000</td>\n",
       "      <td>1.000000</td>\n",
       "      <td>1.000000</td>\n",
       "      <td>1.000000</td>\n",
       "      <td>298.670000</td>\n",
       "    </tr>\n",
       "  </tbody>\n",
       "</table>\n",
       "</div>"
      ],
      "text/plain": [
       "                 id           age        gender        height        weight  \\\n",
       "count  70000.000000  70000.000000  70000.000000  70000.000000  70000.000000   \n",
       "mean   49972.419900     53.338686      1.349571      1.643592     74.205690   \n",
       "std    28851.302323      6.765294      0.476838      0.082101     14.395757   \n",
       "min        0.000000     30.000000      1.000000      0.550000     10.000000   \n",
       "25%    25006.750000     48.000000      1.000000      1.590000     65.000000   \n",
       "50%    50001.500000     54.000000      1.000000      1.650000     72.000000   \n",
       "75%    74889.250000     58.000000      2.000000      1.700000     82.000000   \n",
       "max    99999.000000     65.000000      2.000000      2.500000    200.000000   \n",
       "\n",
       "           systolic     diastolic   cholesterol          gluc         smoke  \\\n",
       "count  70000.000000  70000.000000  70000.000000  70000.000000  70000.000000   \n",
       "mean     128.817286     96.630414      1.366871      1.226457      0.088129   \n",
       "std      154.011419    188.472530      0.680250      0.572270      0.283484   \n",
       "min     -150.000000    -70.000000      1.000000      1.000000      0.000000   \n",
       "25%      120.000000     80.000000      1.000000      1.000000      0.000000   \n",
       "50%      120.000000     80.000000      1.000000      1.000000      0.000000   \n",
       "75%      140.000000     90.000000      2.000000      1.000000      0.000000   \n",
       "max    16020.000000  11000.000000      3.000000      3.000000      1.000000   \n",
       "\n",
       "               alco        active        cardio           bmi  \n",
       "count  70000.000000  70000.000000  70000.000000  70000.000000  \n",
       "mean       0.053771      0.803729      0.499700     27.556545  \n",
       "std        0.225568      0.397179      0.500003      6.091405  \n",
       "min        0.000000      0.000000      0.000000      3.470000  \n",
       "25%        0.000000      1.000000      0.000000     23.880000  \n",
       "50%        0.000000      1.000000      0.000000     26.375000  \n",
       "75%        0.000000      1.000000      1.000000     30.220000  \n",
       "max        1.000000      1.000000      1.000000    298.670000  "
      ]
     },
     "execution_count": 16,
     "metadata": {},
     "output_type": "execute_result"
    }
   ],
   "source": [
    "df.describe()"
   ]
  },
  {
   "cell_type": "markdown",
   "metadata": {
    "id": "4Lg1GsfxSwwL"
   },
   "source": [
    "Some of this data does not look accurate such as someone having a max bmi of 298 and a min bmi of 3."
   ]
  },
  {
   "cell_type": "markdown",
   "metadata": {
    "id": "uJdF3TMe_TXU"
   },
   "source": [
    "# Visualizations\n",
    "\n",
    "The main purpose of this assignment is to practice creating various visualizations using the matplotlib and seaborn library.\n",
    "\n",
    "### **Part 1:**\n",
    "Using matplotlib, create ***two or more plots*** that incorporate at least **5** of the following properties:\n",
    "\n",
    "Note: these properties vary based on your data.  The goal is to practice creating visualizations and modifying its properties.\n",
    "\n",
    "*   Use and change a legend position\n",
    "*   Change a legend font size\n",
    "*   Place a legend outside of the plot\n",
    "*   Create a single legend for all subplots\n",
    "*   Change the title and x/y labels\n",
    "*   Change the marker, line colors, and line width\n",
    "*   Add annotations\n",
    "*   Modify Axis Text Ticks/Labels\n",
    "*   Change size of axis Labels\n",
    "*   Your own choice not included above\n",
    "\n",
    "\n",
    "Plots that you can create **include**:\n",
    "\n",
    "*   Scatter Plot\n",
    "*   Bar plot\n",
    "*   Line Chart\n",
    "*   Multi Plots (e.g. using .subplot()\n",
    "*   Histogram\n",
    "\n",
    "You can add another plot not listed here if it works better for your data.  This is not a complete list of plots to create.\n",
    "\n",
    "### **Part 2:**\n",
    "\n",
    "Recreate the visualizations above using the Seaborn library as best as possible.  \n",
    "\n",
    "\n",
    "**You are required to explain what each of your plots is representing. Plots without comments will not be accepted.**  In addition, please explain the properties you are showcasing.\n",
    "\n",
    "\n",
    "### **Part 3:**\n",
    "In a comment or text box, explain the differences between creating a plot in matplotlib and seaborn, based on your above plots.\n",
    "\n"
   ]
  },
  {
   "cell_type": "markdown",
   "metadata": {
    "id": "mwNH7WccJdsg"
   },
   "source": [
    "### Part 1"
   ]
  },
  {
   "cell_type": "markdown",
   "metadata": {
    "id": "Lk676BZ_Joup"
   },
   "source": [
    "###### A histogram of the age of the individuals"
   ]
  },
  {
   "cell_type": "code",
   "execution_count": 17,
   "metadata": {
    "colab": {
     "base_uri": "https://localhost:8080/",
     "height": 482
    },
    "executionInfo": {
     "elapsed": 711,
     "status": "ok",
     "timestamp": 1699227305907,
     "user": {
      "displayName": "Jian Quan Chen",
      "userId": "01352352627625084723"
     },
     "user_tz": 300
    },
    "id": "4VWWvvynEiQT",
    "outputId": "15e4374c-7f62-47e9-e46e-e8b84ea5813d"
   },
   "outputs": [
    {
     "data": {
      "image/png": "[encoded data removed]",
      "text/plain": [
       "<Figure size 640x480 with 1 Axes>"
      ]
     },
     "metadata": {},
     "output_type": "display_data"
    }
   ],
   "source": [
    "ages = df_filtered[\"age\"]\n",
    "plt.hist(ages, bins = 30, edgecolor=\"k\", alpha=0.7)\n",
    "plt.title(\"Histogram of Individual's Age\", fontdict={\"family\" : \"sans-serif\",\"weight\" : \"bold\",\"size\": 16})\n",
    "plt.xlabel(\"Age\", fontdict = {\"size\" : 14})\n",
    "plt.ylabel(\"Count of Heart Disease\",  fontdict = {\"size\" : 14})\n",
    "plt.xticks(range(min(ages), max(ages) + 1))\n",
    "plt.xticks(rotation=90)\n",
    "plt.show()"
   ]
  },
  {
   "cell_type": "markdown",
   "metadata": {
    "id": "k-SH44haZJFE"
   },
   "source": [
    "The histogram illustrates the distribution of ages among individuals with heart disease. The distribution peaks at about age 56. There is a higher concentration of individuals aged >50 with heart disease than individuals aged <50. This indicates that there is a positive correlation between age and heart disease. The different heights of the bins can be attributed to the rounding I did earlier. Further analysis is needed to explore the strength and significance of the age-heart disease relationship.\n",
    "\n",
    "I added labels to the x and y axis as well as a titlte. The x axis was also changed so that it goes by intervals of 1. The font size and style of the labels and title were also changed."
   ]
  },
  {
   "cell_type": "markdown",
   "metadata": {
    "id": "cvkuRAfKRRfO"
   },
   "source": [
    "##### A boxplot of the individual's BMI grouped by cardiovascular disease"
   ]
  },
  {
   "cell_type": "code",
   "execution_count": 18,
   "metadata": {
    "executionInfo": {
     "elapsed": 3,
     "status": "ok",
     "timestamp": 1699227305907,
     "user": {
      "displayName": "Jian Quan Chen",
      "userId": "01352352627625084723"
     },
     "user_tz": 300
    },
    "id": "puCjVpX5RN2x"
   },
   "outputs": [],
   "source": [
    "# For some odd reason there were a bunch of BMIs above 50, which is extremely rare so we're gonna exclude them\n",
    "df_no_outlier = df[df[\"bmi\"] < 50]\n",
    "grouped_data = df_no_outlier[df_no_outlier[\"cardio\"] == 0][\"bmi\"], df_no_outlier[df_no_outlier[\"cardio\"] == 1][\"bmi\"]"
   ]
  },
  {
   "cell_type": "code",
   "execution_count": 19,
   "metadata": {
    "colab": {
     "base_uri": "https://localhost:8080/",
     "height": 572
    },
    "executionInfo": {
     "elapsed": 435,
     "status": "ok",
     "timestamp": 1699227306340,
     "user": {
      "displayName": "Jian Quan Chen",
      "userId": "01352352627625084723"
     },
     "user_tz": 300
    },
    "id": "LGZ9hVcASFqV",
    "outputId": "f6af0037-0d71-4325-ab36-81a1422c8be0"
   },
   "outputs": [
    {
     "data": {
      "image/png": "[encoded data removed]",
      "text/plain": [
       "<Figure size 800x600 with 1 Axes>"
      ]
     },
     "metadata": {},
     "output_type": "display_data"
    }
   ],
   "source": [
    "plt.figure(figsize=(8, 6))\n",
    "plt.boxplot(grouped_data, labels=[\"No Cardiovascular Disease\", \"Cardiovascular Disease\"])\n",
    "plt.title(\"Boxplot of BMI Grouped by Cardiovascular Disease\", fontdict={\"family\" : \"serif\",\"weight\" : \"bold\",\"size\": 16})\n",
    "plt.xlabel(\"Cardiovascular Disease\", fontdict= {\"size\": 14})\n",
    "plt.ylabel(\"BMI (kg/m²)\", fontdict= {\"size\": 14})\n",
    "plt.grid(axis=\"y\", linestyle=\"--\", alpha=0.6)\n",
    "plt.show()"
   ]
  },
  {
   "cell_type": "markdown",
   "metadata": {
    "id": "DMD2sKUC7-jC"
   },
   "source": [
    "This is a boxplot that shows the BMIs among individuals based on their cardiovascular disease status. Individuals with cardiovascular disease have a slightly higher median BMI when compared to those without heart disease.\n",
    "\n",
    "Also, the interquartile range of BMIs in individuals with cardiovascular disease is wider than that of those with no cardiovascular disease. This suggests that even individuals with lower BMIs can have cardiovascular disease, indicating that an elevated BMI does not accout for all cases of cardiovascular disease.\n",
    "\n",
    "I added the labels to the x and y axis as well as a title to the plot. I also added some gridlines to the boxplot to make the values like the median more readable. The font size of the labels and fonts were enlarged too."
   ]
  },
  {
   "cell_type": "markdown",
   "metadata": {
    "id": "vFa4bNTyDbzb"
   },
   "source": [
    "### Part 2"
   ]
  },
  {
   "cell_type": "markdown",
   "metadata": {
    "id": "IX4Fs86etw4O"
   },
   "source": [
    "##### Histogram of individual's ages in seaborn"
   ]
  },
  {
   "cell_type": "code",
   "execution_count": 20,
   "metadata": {
    "colab": {
     "base_uri": "https://localhost:8080/",
     "height": 588
    },
    "executionInfo": {
     "elapsed": 1070,
     "status": "ok",
     "timestamp": 1699229951754,
     "user": {
      "displayName": "Jian Quan Chen",
      "userId": "01352352627625084723"
     },
     "user_tz": 300
    },
    "id": "WLcd3Yp_uRyM",
    "outputId": "515cf4af-37d3-492e-f58c-29cda0a6f58c"
   },
   "outputs": [
    {
     "name": "stderr",
     "output_type": "stream",
     "text": [
      "D:\\Users\\Jian\\anaconda3\\Lib\\site-packages\\seaborn\\_oldcore.py:1498: FutureWarning: is_categorical_dtype is deprecated and will be removed in a future version. Use isinstance(dtype, CategoricalDtype) instead\n",
      "  if pd.api.types.is_categorical_dtype(vector):\n",
      "D:\\Users\\Jian\\anaconda3\\Lib\\site-packages\\seaborn\\_oldcore.py:1119: FutureWarning: use_inf_as_na option is deprecated and will be removed in a future version. Convert inf values to NaN before operating instead.\n",
      "  with pd.option_context('mode.use_inf_as_na', True):\n"
     ]
    },
    {
     "data": {
      "text/plain": [
       "Text(0, 0.5, 'Count of Heart Disease')"
      ]
     },
     "execution_count": 20,
     "metadata": {},
     "output_type": "execute_result"
    },
    {
     "data": {
      "image/png": "[encoded data removed]",
      "text/plain": [
       "<Figure size 800x600 with 1 Axes>"
      ]
     },
     "metadata": {},
     "output_type": "display_data"
    }
   ],
   "source": [
    "plt.figure(figsize=(8, 6))\n",
    "sns.histplot(ages, bins=30, kde=True, color='skyblue')\n",
    "plt.title(\"Histogram of Individual's Age\", fontdict={\"family\": \"sans-serif\", \"weight\": \"bold\", \"size\": 16})\n",
    "plt.xlabel(\"Age\", fontdict={\"size\": 14})\n",
    "plt.ylabel(\"Count of Heart Disease\", fontdict={\"size\": 14})"
   ]
  },
  {
   "cell_type": "markdown",
   "metadata": {
    "id": "MHu9hqBcvhcO"
   },
   "source": [
    "This histogram in seaborn of the individual's ages is pretty much the same as the one done in matplotlib but I was able to add in a kernel denstiy estimation(kde) line. Again, the count of individuals with heart disease increases with age. However, the kde shows that a greater distribution of the individuals with heart disease is between 55 to 64 years old, suggesting a positive correlation between age and cardiovascular disease."
   ]
  },
  {
   "cell_type": "markdown",
   "metadata": {
    "id": "WrMFUh0EAdoD"
   },
   "source": [
    "##### Boxplot of BMI grouped by cardiovascular disease in seaborn"
   ]
  },
  {
   "cell_type": "code",
   "execution_count": 21,
   "metadata": {
    "colab": {
     "base_uri": "https://localhost:8080/",
     "height": 572
    },
    "executionInfo": {
     "elapsed": 494,
     "status": "ok",
     "timestamp": 1699230993173,
     "user": {
      "displayName": "Jian Quan Chen",
      "userId": "01352352627625084723"
     },
     "user_tz": 300
    },
    "id": "5azZgZABAo8R",
    "outputId": "d8144e55-8d07-4c0f-88e1-f860e72625f1"
   },
   "outputs": [
    {
     "name": "stderr",
     "output_type": "stream",
     "text": [
      "D:\\Users\\Jian\\anaconda3\\Lib\\site-packages\\seaborn\\_oldcore.py:1498: FutureWarning: is_categorical_dtype is deprecated and will be removed in a future version. Use isinstance(dtype, CategoricalDtype) instead\n",
      "  if pd.api.types.is_categorical_dtype(vector):\n",
      "D:\\Users\\Jian\\anaconda3\\Lib\\site-packages\\seaborn\\_oldcore.py:1498: FutureWarning: is_categorical_dtype is deprecated and will be removed in a future version. Use isinstance(dtype, CategoricalDtype) instead\n",
      "  if pd.api.types.is_categorical_dtype(vector):\n",
      "D:\\Users\\Jian\\anaconda3\\Lib\\site-packages\\seaborn\\_oldcore.py:1498: FutureWarning: is_categorical_dtype is deprecated and will be removed in a future version. Use isinstance(dtype, CategoricalDtype) instead\n",
      "  if pd.api.types.is_categorical_dtype(vector):\n"
     ]
    },
    {
     "data": {
      "image/png": "[encoded data removed]",
      "text/plain": [
       "<Figure size 800x600 with 1 Axes>"
      ]
     },
     "metadata": {},
     "output_type": "display_data"
    }
   ],
   "source": [
    "plt.figure(figsize=(8, 6))\n",
    "boxplot = sns.boxplot(x=\"cardio\", y=\"bmi\", data=df_no_outlier, palette=[\"lightblue\", \"lightcoral\"])\n",
    "plt.title(\"Boxplot of BMI Grouped by Cardiovascular Disease\", fontdict={\"family\": \"serif\", \"weight\": \"bold\", \"size\": 16})\n",
    "plt.xlabel(\"Cardiovascular Disease\", fontdict={\"size\": 14})\n",
    "plt.ylabel(\"BMI (kg/m²)\", fontdict={\"size\": 14})\n",
    "plt.grid(axis=\"y\", linestyle=\"--\", alpha=0.6)\n",
    "boxplot.set_xticklabels([\"No Cardiovascular Disease\", \"Cardiovascular Disease\"])\n",
    "boxplot.tick_params(axis= \"x\", labelcolor=\"red\")\n",
    "plt.show()"
   ]
  },
  {
   "cell_type": "markdown",
   "metadata": {
    "id": "B83GL7TkC2o_"
   },
   "source": [
    "The boxplot of BMIs grouped by cardiovascular disease done in seaborn is very similar to that of the one done in matplotlib. However, this boxplot figure is a bit larger in size so the median and interquartile range is easier to see. Again, the boxplot shows that the median BMI in cariovascular disease is higher in those with cardiovascular disease compared to those without.\n",
    "\n",
    "I added the labels to the x and y axis as well as a title to the plot. I also added some gridlines to the boxplot to make the values like the median and interquartile clearer. The font size of the labels and fonts were colored and enlarged."
   ]
  },
  {
   "cell_type": "markdown",
   "metadata": {
    "id": "0Oc0pAYVOAkc"
   },
   "source": [
    "##### Correlation Heatmap"
   ]
  },
  {
   "cell_type": "markdown",
   "metadata": {
    "id": "2Y1WmfDfOEtD"
   },
   "source": [
    "I decided to do a correlation heatmap in seaborn. I was having trouble doing this in matplotlib as the plots were coming out very different than how I intended. This was the plot I was aiming for when I looked through stackoverflow."
   ]
  },
  {
   "cell_type": "code",
   "execution_count": 22,
   "metadata": {
    "colab": {
     "base_uri": "https://localhost:8080/",
     "height": 827
    },
    "executionInfo": {
     "elapsed": 1505,
     "status": "ok",
     "timestamp": 1699233635106,
     "user": {
      "displayName": "Jian Quan Chen",
      "userId": "01352352627625084723"
     },
     "user_tz": 300
    },
    "id": "ZBqNFdYnMqqj",
    "outputId": "0e6ec471-e81d-4be7-b52a-ee6b1dcbcf3b"
   },
   "outputs": [
    {
     "data": {
      "image/png": "[encoded data removed]",
      "text/plain": [
       "<Figure size 1100x900 with 2 Axes>"
      ]
     },
     "metadata": {},
     "output_type": "display_data"
    }
   ],
   "source": [
    "corr = df.corr()\n",
    "cmap = sns.diverging_palette(220, 10, as_cmap=True)\n",
    "mask = np.triu(corr)\n",
    "plt.figure(figsize=(11, 9))\n",
    "sns.heatmap(corr, mask=mask, cmap=cmap, center=0, annot=True, fmt=\".2f\",\n",
    "            square=True, linewidths=.5, cbar_kws={\"shrink\": 0.5})\n",
    "plt.title('Correlation Heatmap')\n",
    "plt.show()"
   ]
  },
  {
   "cell_type": "markdown",
   "metadata": {
    "id": "SPXn2gy2OmCT"
   },
   "source": [
    "This correlation heatmap shows that age (0.24) and cholesterol (0.22) had the biggest influence on whether the individual had cardiovascular disease. On the other hand, this heatmap also indicates that height, smoking, alcohol, and physical activity had a negative correlation to cardiovascular disease."
   ]
  },
  {
   "cell_type": "markdown",
   "metadata": {
    "id": "tujjevRpXEen"
   },
   "source": [
    "# Conclusions  \n",
    "\n",
    "After exploring your dataset, provide a short summary of what you noticed from this dataset.  "
   ]
  },
  {
   "cell_type": "markdown",
   "metadata": {
    "id": "QOp0-1GhHlAa"
   },
   "source": [
    "In summary, this dataset provides a valuable resource for examining the relationship between cardiovascular disease and its risk factors. It covers a range of demographic and health-related variables, which can be used to train models that predict cardiovascular disease.\n",
    "\n",
    "The histogram showed that a positive correlation between age and cardiovascular disease as their was a higher concenration of individuals with cardiovascular disease over 50 years old than those younger than 50 years old. More stastical tests need to be done to determine if this correlation is statistical significant.\n",
    "\n",
    "The boxplot showed that individuals with cardiovascular disease had a higher median BMI than those without. It also showed that individuals with cardiovascular disease had a wider range of BMI than those without. The 25% percentile of BMIs for those with cardiovascular disease was less than those without cardiovascular disease. This suggests there are additional risk factors that influence heart disease.\n",
    "\n",
    "Lastly, the correlation heatmap revealed age and cholesterol exhibiting the highest impact to whether the individual had cardiovascular disease or not. However, correlation does not imply causation and further research should be done to investigate the strength of these relationships."
   ]
  }
 ],
 "metadata": {
  "colab": {
   "provenance": [
    {
     "file_id": "1P048YsPZu-UgEksEpL-NzBS5G6E_M9qK",
     "timestamp": 1699234184784
    },
    {
     "file_id": "1xtixhj3NuTCnn99h2wjMbbTJu9mhppbG",
     "timestamp": 1699154389470
    },
    {
     "file_id": "1C4dlwx40w-SuWLvEdZM2vmX8yVrL9UXC",
     "timestamp": 1649202866208
    }
   ]
  },
  "kernelspec": {
   "display_name": "Python 3 (ipykernel)",
   "language": "python",
   "name": "python3"
  },
  "language_info": {
   "codemirror_mode": {
    "name": "ipython",
    "version": 3
   },
   "file_extension": ".py",
   "mimetype": "text/x-python",
   "name": "python",
   "nbconvert_exporter": "python",
   "pygments_lexer": "ipython3",
   "version": "3.11.5"
  }
 },
 "nbformat": 4,
 "nbformat_minor": 1
}
