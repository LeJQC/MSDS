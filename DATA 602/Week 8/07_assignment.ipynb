{
 "cells": [
  {
   "cell_type": "markdown",
   "metadata": {
    "id": "view-in-github"
   },
   "source": [
    "<a href=\"https://colab.research.google.com/github/data602sps/assignments/blob/master/05_assignment.ipynb\" target=\"_parent\"><img src=\"https://colab.research.google.com/assets/colab-badge.svg\" alt=\"Open In Colab\"/></a>"
   ]
  },
  {
   "cell_type": "markdown",
   "metadata": {
    "id": "rd2QZetSDszc"
   },
   "source": [
    "# **Assignment 7**\n",
    "\n",
    "# **Weeks 8 & 9 - Pandas**\n",
    "* In this homework assignment, you will explore and analyze a public dataset of your choosing. Since this assignment is “open-ended” in nature, you are free to expand upon the requirements below. However, you must meet the minimum requirments as indicated in each section. \n",
    "\n",
    "* You must use Pandas as the **primary tool** to process your data.\n",
    "\n",
    "* The preferred method for this analysis is in a .ipynb file. Feel free to use whichever platform of your choosing.  \n",
    " * https://www.youtube.com/watch?v=inN8seMm7UI (Getting started with Colab).\n",
    "\n",
    "* Your data should need some \"work\", or be considered \"dirty\".  You must show your skills in data cleaning/wrangling.\n",
    "\n",
    "### **Some data examples:**\n",
    "•\thttps://www.data.gov/\n",
    "\n",
    "•\thttps://opendata.cityofnewyork.us/\n",
    "\n",
    "•\thttps://datasetsearch.research.google.com/\n",
    "\n",
    "•\thttps://archive.ics.uci.edu/ml/index.php\n",
    "\n",
    "### **Resources:**\n",
    "\n",
    "•\thttps://pandas.pydata.org/pandas-docs/stable/getting_started/10min.html \n",
    "\n",
    "•\thttps://pandas.pydata.org/pandas-docs/stable/user_guide/visualization.html\n",
    "\n",
    "\n",
    "### **Headings or comments**\n",
    "**You are required to make use of comments, or headings for each section.  You must explain what your code is doing, and the results of running your code.**  Act as if you were giving this assignment to your manager - you must include clear and descriptive information for each section.\n",
    "\n",
    "### **You may work as a group or indivdually on this assignment.**\n"
   ]
  },
  {
   "cell_type": "markdown",
   "metadata": {
    "id": "uW3w6p8rqgxu"
   },
   "source": [
    "# Introduction\n",
    "\n",
    "In this section, please describe the dataset you are using.  Include a link to the source of this data.  You should also provide some explanation on why you choose this dataset."
   ]
  },
  {
   "cell_type": "markdown",
   "metadata": {
    "id": "L0PnfMOFzOXz"
   },
   "source": []
  },
  {
   "cell_type": "markdown",
   "metadata": {
    "id": "3bp8cdDxDs2t"
   },
   "source": [
    "______________\n",
    "# Data Exploration\n",
    "Import your dataset into your .ipynb, create dataframes, and explore your data.  \n",
    "\n",
    "Include: \n",
    "\n",
    "* Summary statistics means, medians, quartiles, \n",
    "* Missing value information\n",
    "* Any other relevant information about the dataset.  \n",
    "\n"
   ]
  },
  {
   "cell_type": "code",
   "execution_count": 1,
   "metadata": {
    "id": "1OJmbafkEhhq"
   },
   "outputs": [],
   "source": [
    "import pandas as pd\n",
    "import numpy as np"
   ]
  },
  {
   "cell_type": "code",
   "execution_count": 2,
   "metadata": {},
   "outputs": [
    {
     "name": "stderr",
     "output_type": "stream",
     "text": [
      "C:\\Users\\Jian\\AppData\\Local\\Temp\\ipykernel_14244\\2475095535.py:1: DtypeWarning: Columns (10) have mixed types. Specify dtype option on import or set low_memory=False.\n",
      "  df = pd.read_csv(\"U.S._Chronic_Disease_Indicators__CDI_.csv\")\n"
     ]
    }
   ],
   "source": [
    "df = pd.read_csv(\"U.S._Chronic_Disease_Indicators__CDI_.csv\")"
   ]
  },
  {
   "cell_type": "code",
   "execution_count": 3,
   "metadata": {
    "id": "b0WTKtqozNn1"
   },
   "outputs": [
    {
     "data": {
      "text/html": [
       "<div>\n",
       "<style scoped>\n",
       "    .dataframe tbody tr th:only-of-type {\n",
       "        vertical-align: middle;\n",
       "    }\n",
       "\n",
       "    .dataframe tbody tr th {\n",
       "        vertical-align: top;\n",
       "    }\n",
       "\n",
       "    .dataframe thead th {\n",
       "        text-align: right;\n",
       "    }\n",
       "</style>\n",
       "<table border=\"1\" class=\"dataframe\">\n",
       "  <thead>\n",
       "    <tr style=\"text-align: right;\">\n",
       "      <th></th>\n",
       "      <th>YearStart</th>\n",
       "      <th>YearEnd</th>\n",
       "      <th>LocationAbbr</th>\n",
       "      <th>LocationDesc</th>\n",
       "      <th>DataSource</th>\n",
       "      <th>Topic</th>\n",
       "      <th>Question</th>\n",
       "      <th>Response</th>\n",
       "      <th>DataValueUnit</th>\n",
       "      <th>DataValueType</th>\n",
       "      <th>...</th>\n",
       "      <th>LocationID</th>\n",
       "      <th>TopicID</th>\n",
       "      <th>QuestionID</th>\n",
       "      <th>DataValueTypeID</th>\n",
       "      <th>StratificationCategoryID1</th>\n",
       "      <th>StratificationID1</th>\n",
       "      <th>StratificationCategoryID2</th>\n",
       "      <th>StratificationID2</th>\n",
       "      <th>StratificationCategoryID3</th>\n",
       "      <th>StratificationID3</th>\n",
       "    </tr>\n",
       "  </thead>\n",
       "  <tbody>\n",
       "    <tr>\n",
       "      <th>0</th>\n",
       "      <td>2010</td>\n",
       "      <td>2010</td>\n",
       "      <td>OR</td>\n",
       "      <td>Oregon</td>\n",
       "      <td>NVSS</td>\n",
       "      <td>Cardiovascular Disease</td>\n",
       "      <td>Mortality from heart failure</td>\n",
       "      <td>NaN</td>\n",
       "      <td>NaN</td>\n",
       "      <td>Number</td>\n",
       "      <td>...</td>\n",
       "      <td>41</td>\n",
       "      <td>CVD</td>\n",
       "      <td>CVD1_4</td>\n",
       "      <td>NMBR</td>\n",
       "      <td>RACE</td>\n",
       "      <td>AIAN</td>\n",
       "      <td>NaN</td>\n",
       "      <td>NaN</td>\n",
       "      <td>NaN</td>\n",
       "      <td>NaN</td>\n",
       "    </tr>\n",
       "    <tr>\n",
       "      <th>1</th>\n",
       "      <td>2019</td>\n",
       "      <td>2019</td>\n",
       "      <td>AZ</td>\n",
       "      <td>Arizona</td>\n",
       "      <td>YRBSS</td>\n",
       "      <td>Alcohol</td>\n",
       "      <td>Alcohol use among youth</td>\n",
       "      <td>NaN</td>\n",
       "      <td>%</td>\n",
       "      <td>Crude Prevalence</td>\n",
       "      <td>...</td>\n",
       "      <td>4</td>\n",
       "      <td>ALC</td>\n",
       "      <td>ALC1_1</td>\n",
       "      <td>CRDPREV</td>\n",
       "      <td>GENDER</td>\n",
       "      <td>GENF</td>\n",
       "      <td>NaN</td>\n",
       "      <td>NaN</td>\n",
       "      <td>NaN</td>\n",
       "      <td>NaN</td>\n",
       "    </tr>\n",
       "    <tr>\n",
       "      <th>2</th>\n",
       "      <td>2019</td>\n",
       "      <td>2019</td>\n",
       "      <td>OH</td>\n",
       "      <td>Ohio</td>\n",
       "      <td>YRBSS</td>\n",
       "      <td>Alcohol</td>\n",
       "      <td>Alcohol use among youth</td>\n",
       "      <td>NaN</td>\n",
       "      <td>%</td>\n",
       "      <td>Crude Prevalence</td>\n",
       "      <td>...</td>\n",
       "      <td>39</td>\n",
       "      <td>ALC</td>\n",
       "      <td>ALC1_1</td>\n",
       "      <td>CRDPREV</td>\n",
       "      <td>GENDER</td>\n",
       "      <td>GENM</td>\n",
       "      <td>NaN</td>\n",
       "      <td>NaN</td>\n",
       "      <td>NaN</td>\n",
       "      <td>NaN</td>\n",
       "    </tr>\n",
       "    <tr>\n",
       "      <th>3</th>\n",
       "      <td>2019</td>\n",
       "      <td>2019</td>\n",
       "      <td>US</td>\n",
       "      <td>United States</td>\n",
       "      <td>YRBSS</td>\n",
       "      <td>Alcohol</td>\n",
       "      <td>Alcohol use among youth</td>\n",
       "      <td>NaN</td>\n",
       "      <td>%</td>\n",
       "      <td>Crude Prevalence</td>\n",
       "      <td>...</td>\n",
       "      <td>59</td>\n",
       "      <td>ALC</td>\n",
       "      <td>ALC1_1</td>\n",
       "      <td>CRDPREV</td>\n",
       "      <td>RACE</td>\n",
       "      <td>ASN</td>\n",
       "      <td>NaN</td>\n",
       "      <td>NaN</td>\n",
       "      <td>NaN</td>\n",
       "      <td>NaN</td>\n",
       "    </tr>\n",
       "    <tr>\n",
       "      <th>4</th>\n",
       "      <td>2015</td>\n",
       "      <td>2015</td>\n",
       "      <td>VI</td>\n",
       "      <td>Virgin Islands</td>\n",
       "      <td>YRBSS</td>\n",
       "      <td>Alcohol</td>\n",
       "      <td>Alcohol use among youth</td>\n",
       "      <td>NaN</td>\n",
       "      <td>%</td>\n",
       "      <td>Crude Prevalence</td>\n",
       "      <td>...</td>\n",
       "      <td>78</td>\n",
       "      <td>ALC</td>\n",
       "      <td>ALC1_1</td>\n",
       "      <td>CRDPREV</td>\n",
       "      <td>GENDER</td>\n",
       "      <td>GENM</td>\n",
       "      <td>NaN</td>\n",
       "      <td>NaN</td>\n",
       "      <td>NaN</td>\n",
       "      <td>NaN</td>\n",
       "    </tr>\n",
       "  </tbody>\n",
       "</table>\n",
       "<p>5 rows × 34 columns</p>\n",
       "</div>"
      ],
      "text/plain": [
       "   YearStart  YearEnd LocationAbbr    LocationDesc DataSource  \\\n",
       "0       2010     2010           OR          Oregon       NVSS   \n",
       "1       2019     2019           AZ         Arizona      YRBSS   \n",
       "2       2019     2019           OH            Ohio      YRBSS   \n",
       "3       2019     2019           US   United States      YRBSS   \n",
       "4       2015     2015           VI  Virgin Islands      YRBSS   \n",
       "\n",
       "                    Topic                      Question  Response  \\\n",
       "0  Cardiovascular Disease  Mortality from heart failure       NaN   \n",
       "1                 Alcohol       Alcohol use among youth       NaN   \n",
       "2                 Alcohol       Alcohol use among youth       NaN   \n",
       "3                 Alcohol       Alcohol use among youth       NaN   \n",
       "4                 Alcohol       Alcohol use among youth       NaN   \n",
       "\n",
       "  DataValueUnit     DataValueType  ... LocationID  TopicID QuestionID  \\\n",
       "0           NaN            Number  ...         41      CVD     CVD1_4   \n",
       "1             %  Crude Prevalence  ...          4      ALC     ALC1_1   \n",
       "2             %  Crude Prevalence  ...         39      ALC     ALC1_1   \n",
       "3             %  Crude Prevalence  ...         59      ALC     ALC1_1   \n",
       "4             %  Crude Prevalence  ...         78      ALC     ALC1_1   \n",
       "\n",
       "  DataValueTypeID  StratificationCategoryID1  StratificationID1  \\\n",
       "0            NMBR                       RACE               AIAN   \n",
       "1         CRDPREV                     GENDER               GENF   \n",
       "2         CRDPREV                     GENDER               GENM   \n",
       "3         CRDPREV                       RACE                ASN   \n",
       "4         CRDPREV                     GENDER               GENM   \n",
       "\n",
       "  StratificationCategoryID2 StratificationID2  StratificationCategoryID3  \\\n",
       "0                       NaN               NaN                        NaN   \n",
       "1                       NaN               NaN                        NaN   \n",
       "2                       NaN               NaN                        NaN   \n",
       "3                       NaN               NaN                        NaN   \n",
       "4                       NaN               NaN                        NaN   \n",
       "\n",
       "   StratificationID3  \n",
       "0                NaN  \n",
       "1                NaN  \n",
       "2                NaN  \n",
       "3                NaN  \n",
       "4                NaN  \n",
       "\n",
       "[5 rows x 34 columns]"
      ]
     },
     "execution_count": 3,
     "metadata": {},
     "output_type": "execute_result"
    }
   ],
   "source": [
    "df.head()"
   ]
  },
  {
   "cell_type": "markdown",
   "metadata": {
    "id": "kCSLIafaEGVK"
   },
   "source": [
    "# Data Wrangling\n",
    "Create a subset of your original data and perform the following.  \n",
    "\n",
    "1. Modify multiple column names.\n",
    "\n",
    "2. Look at the structure of your data – are any variables improperly coded? Such as strings or characters? Convert to correct structure if needed.\n",
    "\n",
    "3. Fix missing and invalid values in data.\n",
    "\n",
    "4. Create new columns based on existing columns or calculations.\n",
    "\n",
    "5. Drop column(s) from your dataset.\n",
    "\n",
    "6. Drop a row(s) from your dataset.\n",
    "\n",
    "7. Sort your data based on multiple variables. \n",
    "\n",
    "8. Filter your data based on some condition. \n",
    "\n",
    "9. Convert all the string values to upper or lower cases in one column.\n",
    "\n",
    "10. Check whether numeric values are present in a given column of your dataframe.\n",
    "\n",
    "11. Group your dataset by one column, and get the mean, min, and max values by group. \n",
    "  * Groupby()\n",
    "  * agg() or .apply()\n",
    "\n",
    "12. Group your dataset by two columns and then sort the aggregated results within the groups. \n",
    "\n",
    "**You are free (and should) to add on to these questions.  Please clearly indicate in your assignment your answers to these questions.**"
   ]
  },
  {
   "cell_type": "code",
   "execution_count": null,
   "metadata": {
    "id": "4VWWvvynEiQT"
   },
   "outputs": [],
   "source": []
  },
  {
   "cell_type": "code",
   "execution_count": null,
   "metadata": {
    "id": "nATPKSaNXD9B"
   },
   "outputs": [],
   "source": []
  },
  {
   "cell_type": "markdown",
   "metadata": {
    "id": "tujjevRpXEen"
   },
   "source": [
    "# Conclusions  \n",
    "\n",
    "After exploring your dataset, provide a short summary of what you noticed from this dataset.  What would you explore further with more time?"
   ]
  },
  {
   "cell_type": "code",
   "execution_count": null,
   "metadata": {
    "id": "SshtuQj9XR5_"
   },
   "outputs": [],
   "source": []
  }
 ],
 "metadata": {
  "colab": {
   "name": "07_assignment.ipynb",
   "provenance": []
  },
  "kernelspec": {
   "display_name": "Python 3 (ipykernel)",
   "language": "python",
   "name": "python3"
  },
  "language_info": {
   "codemirror_mode": {
    "name": "ipython",
    "version": 3
   },
   "file_extension": ".py",
   "mimetype": "text/x-python",
   "name": "python",
   "nbconvert_exporter": "python",
   "pygments_lexer": "ipython3",
   "version": "3.11.5"
  }
 },
 "nbformat": 4,
 "nbformat_minor": 1
}
